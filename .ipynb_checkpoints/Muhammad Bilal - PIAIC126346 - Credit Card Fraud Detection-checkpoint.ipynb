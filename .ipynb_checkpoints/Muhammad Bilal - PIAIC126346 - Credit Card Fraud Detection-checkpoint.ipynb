{
 "cells": [
  {
   "cell_type": "markdown",
   "id": "continuous-naples",
   "metadata": {},
   "source": [
    "# Muhammad Bilal - PIAIC126346 - Credit Card Fraud Detection"
   ]
  },
  {
   "cell_type": "code",
   "execution_count": 1,
   "id": "lucky-southwest",
   "metadata": {},
   "outputs": [],
   "source": [
    "import numpy as np\n",
    "import pandas as pd\n",
    "import tensorflow as tf\n",
    "from tensorflow.keras import models, layers, optimizers\n",
    "from tensorflow.keras.utils import to_categorical\n",
    "from tensorflow.keras.models import Sequential\n",
    "from tensorflow.keras.layers import Dense\n",
    "from sklearn.preprocessing import StandardScaler\n",
    "from sklearn.model_selection import train_test_split"
   ]
  },
  {
   "cell_type": "code",
   "execution_count": 2,
   "id": "growing-jurisdiction",
   "metadata": {},
   "outputs": [],
   "source": [
    "data = pd.read_csv('creditcard.csv')              #Loading Data"
   ]
  },
  {
   "cell_type": "code",
   "execution_count": 3,
   "id": "constant-experience",
   "metadata": {},
   "outputs": [
    {
     "data": {
      "text/html": [
       "<div>\n",
       "<style scoped>\n",
       "    .dataframe tbody tr th:only-of-type {\n",
       "        vertical-align: middle;\n",
       "    }\n",
       "\n",
       "    .dataframe tbody tr th {\n",
       "        vertical-align: top;\n",
       "    }\n",
       "\n",
       "    .dataframe thead th {\n",
       "        text-align: right;\n",
       "    }\n",
       "</style>\n",
       "<table border=\"1\" class=\"dataframe\">\n",
       "  <thead>\n",
       "    <tr style=\"text-align: right;\">\n",
       "      <th></th>\n",
       "      <th>Time</th>\n",
       "      <th>V1</th>\n",
       "      <th>V2</th>\n",
       "      <th>V3</th>\n",
       "      <th>V4</th>\n",
       "      <th>V5</th>\n",
       "      <th>V6</th>\n",
       "      <th>V7</th>\n",
       "      <th>V8</th>\n",
       "      <th>V9</th>\n",
       "      <th>...</th>\n",
       "      <th>V21</th>\n",
       "      <th>V22</th>\n",
       "      <th>V23</th>\n",
       "      <th>V24</th>\n",
       "      <th>V25</th>\n",
       "      <th>V26</th>\n",
       "      <th>V27</th>\n",
       "      <th>V28</th>\n",
       "      <th>Amount</th>\n",
       "      <th>Class</th>\n",
       "    </tr>\n",
       "  </thead>\n",
       "  <tbody>\n",
       "    <tr>\n",
       "      <th>0</th>\n",
       "      <td>0.0</td>\n",
       "      <td>-1.359807</td>\n",
       "      <td>-0.072781</td>\n",
       "      <td>2.536347</td>\n",
       "      <td>1.378155</td>\n",
       "      <td>-0.338321</td>\n",
       "      <td>0.462388</td>\n",
       "      <td>0.239599</td>\n",
       "      <td>0.098698</td>\n",
       "      <td>0.363787</td>\n",
       "      <td>...</td>\n",
       "      <td>-0.018307</td>\n",
       "      <td>0.277838</td>\n",
       "      <td>-0.110474</td>\n",
       "      <td>0.066928</td>\n",
       "      <td>0.128539</td>\n",
       "      <td>-0.189115</td>\n",
       "      <td>0.133558</td>\n",
       "      <td>-0.021053</td>\n",
       "      <td>149.62</td>\n",
       "      <td>0</td>\n",
       "    </tr>\n",
       "    <tr>\n",
       "      <th>1</th>\n",
       "      <td>0.0</td>\n",
       "      <td>1.191857</td>\n",
       "      <td>0.266151</td>\n",
       "      <td>0.166480</td>\n",
       "      <td>0.448154</td>\n",
       "      <td>0.060018</td>\n",
       "      <td>-0.082361</td>\n",
       "      <td>-0.078803</td>\n",
       "      <td>0.085102</td>\n",
       "      <td>-0.255425</td>\n",
       "      <td>...</td>\n",
       "      <td>-0.225775</td>\n",
       "      <td>-0.638672</td>\n",
       "      <td>0.101288</td>\n",
       "      <td>-0.339846</td>\n",
       "      <td>0.167170</td>\n",
       "      <td>0.125895</td>\n",
       "      <td>-0.008983</td>\n",
       "      <td>0.014724</td>\n",
       "      <td>2.69</td>\n",
       "      <td>0</td>\n",
       "    </tr>\n",
       "    <tr>\n",
       "      <th>2</th>\n",
       "      <td>1.0</td>\n",
       "      <td>-1.358354</td>\n",
       "      <td>-1.340163</td>\n",
       "      <td>1.773209</td>\n",
       "      <td>0.379780</td>\n",
       "      <td>-0.503198</td>\n",
       "      <td>1.800499</td>\n",
       "      <td>0.791461</td>\n",
       "      <td>0.247676</td>\n",
       "      <td>-1.514654</td>\n",
       "      <td>...</td>\n",
       "      <td>0.247998</td>\n",
       "      <td>0.771679</td>\n",
       "      <td>0.909412</td>\n",
       "      <td>-0.689281</td>\n",
       "      <td>-0.327642</td>\n",
       "      <td>-0.139097</td>\n",
       "      <td>-0.055353</td>\n",
       "      <td>-0.059752</td>\n",
       "      <td>378.66</td>\n",
       "      <td>0</td>\n",
       "    </tr>\n",
       "    <tr>\n",
       "      <th>3</th>\n",
       "      <td>1.0</td>\n",
       "      <td>-0.966272</td>\n",
       "      <td>-0.185226</td>\n",
       "      <td>1.792993</td>\n",
       "      <td>-0.863291</td>\n",
       "      <td>-0.010309</td>\n",
       "      <td>1.247203</td>\n",
       "      <td>0.237609</td>\n",
       "      <td>0.377436</td>\n",
       "      <td>-1.387024</td>\n",
       "      <td>...</td>\n",
       "      <td>-0.108300</td>\n",
       "      <td>0.005274</td>\n",
       "      <td>-0.190321</td>\n",
       "      <td>-1.175575</td>\n",
       "      <td>0.647376</td>\n",
       "      <td>-0.221929</td>\n",
       "      <td>0.062723</td>\n",
       "      <td>0.061458</td>\n",
       "      <td>123.50</td>\n",
       "      <td>0</td>\n",
       "    </tr>\n",
       "    <tr>\n",
       "      <th>4</th>\n",
       "      <td>2.0</td>\n",
       "      <td>-1.158233</td>\n",
       "      <td>0.877737</td>\n",
       "      <td>1.548718</td>\n",
       "      <td>0.403034</td>\n",
       "      <td>-0.407193</td>\n",
       "      <td>0.095921</td>\n",
       "      <td>0.592941</td>\n",
       "      <td>-0.270533</td>\n",
       "      <td>0.817739</td>\n",
       "      <td>...</td>\n",
       "      <td>-0.009431</td>\n",
       "      <td>0.798278</td>\n",
       "      <td>-0.137458</td>\n",
       "      <td>0.141267</td>\n",
       "      <td>-0.206010</td>\n",
       "      <td>0.502292</td>\n",
       "      <td>0.219422</td>\n",
       "      <td>0.215153</td>\n",
       "      <td>69.99</td>\n",
       "      <td>0</td>\n",
       "    </tr>\n",
       "  </tbody>\n",
       "</table>\n",
       "<p>5 rows × 31 columns</p>\n",
       "</div>"
      ],
      "text/plain": [
       "   Time        V1        V2        V3        V4        V5        V6        V7  \\\n",
       "0   0.0 -1.359807 -0.072781  2.536347  1.378155 -0.338321  0.462388  0.239599   \n",
       "1   0.0  1.191857  0.266151  0.166480  0.448154  0.060018 -0.082361 -0.078803   \n",
       "2   1.0 -1.358354 -1.340163  1.773209  0.379780 -0.503198  1.800499  0.791461   \n",
       "3   1.0 -0.966272 -0.185226  1.792993 -0.863291 -0.010309  1.247203  0.237609   \n",
       "4   2.0 -1.158233  0.877737  1.548718  0.403034 -0.407193  0.095921  0.592941   \n",
       "\n",
       "         V8        V9  ...       V21       V22       V23       V24       V25  \\\n",
       "0  0.098698  0.363787  ... -0.018307  0.277838 -0.110474  0.066928  0.128539   \n",
       "1  0.085102 -0.255425  ... -0.225775 -0.638672  0.101288 -0.339846  0.167170   \n",
       "2  0.247676 -1.514654  ...  0.247998  0.771679  0.909412 -0.689281 -0.327642   \n",
       "3  0.377436 -1.387024  ... -0.108300  0.005274 -0.190321 -1.175575  0.647376   \n",
       "4 -0.270533  0.817739  ... -0.009431  0.798278 -0.137458  0.141267 -0.206010   \n",
       "\n",
       "        V26       V27       V28  Amount  Class  \n",
       "0 -0.189115  0.133558 -0.021053  149.62      0  \n",
       "1  0.125895 -0.008983  0.014724    2.69      0  \n",
       "2 -0.139097 -0.055353 -0.059752  378.66      0  \n",
       "3 -0.221929  0.062723  0.061458  123.50      0  \n",
       "4  0.502292  0.219422  0.215153   69.99      0  \n",
       "\n",
       "[5 rows x 31 columns]"
      ]
     },
     "execution_count": 3,
     "metadata": {},
     "output_type": "execute_result"
    }
   ],
   "source": [
    "data.head()"
   ]
  },
  {
   "cell_type": "code",
   "execution_count": 4,
   "id": "composite-planner",
   "metadata": {},
   "outputs": [
    {
     "name": "stdout",
     "output_type": "stream",
     "text": [
      "Time      0\n",
      "V1        0\n",
      "V2        0\n",
      "V3        0\n",
      "V4        0\n",
      "V5        0\n",
      "V6        0\n",
      "V7        0\n",
      "V8        0\n",
      "V9        0\n",
      "V10       0\n",
      "V11       0\n",
      "V12       0\n",
      "V13       0\n",
      "V14       0\n",
      "V15       0\n",
      "V16       0\n",
      "V17       0\n",
      "V18       0\n",
      "V19       0\n",
      "V20       0\n",
      "V21       0\n",
      "V22       0\n",
      "V23       0\n",
      "V24       0\n",
      "V25       0\n",
      "V26       0\n",
      "V27       0\n",
      "V28       0\n",
      "Amount    0\n",
      "Class     0\n",
      "dtype: int64\n"
     ]
    }
   ],
   "source": [
    "print(data.isnull().sum())              #Checking for missing data"
   ]
  },
  {
   "cell_type": "code",
   "execution_count": 5,
   "id": "exposed-potter",
   "metadata": {},
   "outputs": [
    {
     "name": "stdout",
     "output_type": "stream",
     "text": [
      "Index(['Time', 'V1', 'V2', 'V3', 'V4', 'V5', 'V6', 'V7', 'V8', 'V9', 'V10',\n",
      "       'V11', 'V12', 'V13', 'V14', 'V15', 'V16', 'V17', 'V18', 'V19', 'V20',\n",
      "       'V21', 'V22', 'V23', 'V24', 'V25', 'V26', 'V27', 'V28', 'Amount',\n",
      "       'Class'],\n",
      "      dtype='object')\n"
     ]
    }
   ],
   "source": [
    "print(data.columns)"
   ]
  },
  {
   "cell_type": "code",
   "execution_count": 6,
   "id": "approved-dallas",
   "metadata": {},
   "outputs": [
    {
     "data": {
      "text/plain": [
       "Time      float64\n",
       "V1        float64\n",
       "V2        float64\n",
       "V3        float64\n",
       "V4        float64\n",
       "V5        float64\n",
       "V6        float64\n",
       "V7        float64\n",
       "V8        float64\n",
       "V9        float64\n",
       "V10       float64\n",
       "V11       float64\n",
       "V12       float64\n",
       "V13       float64\n",
       "V14       float64\n",
       "V15       float64\n",
       "V16       float64\n",
       "V17       float64\n",
       "V18       float64\n",
       "V19       float64\n",
       "V20       float64\n",
       "V21       float64\n",
       "V22       float64\n",
       "V23       float64\n",
       "V24       float64\n",
       "V25       float64\n",
       "V26       float64\n",
       "V27       float64\n",
       "V28       float64\n",
       "Amount    float64\n",
       "Class       int64\n",
       "dtype: object"
      ]
     },
     "execution_count": 6,
     "metadata": {},
     "output_type": "execute_result"
    }
   ],
   "source": [
    "data.dtypes"
   ]
  },
  {
   "cell_type": "code",
   "execution_count": 7,
   "id": "cognitive-montana",
   "metadata": {},
   "outputs": [],
   "source": [
    "x = data.drop(labels  = 'Class', axis=1)\n",
    "y = data[['Class']]"
   ]
  },
  {
   "cell_type": "code",
   "execution_count": 8,
   "id": "protecting-constant",
   "metadata": {},
   "outputs": [
    {
     "data": {
      "text/html": [
       "<div>\n",
       "<style scoped>\n",
       "    .dataframe tbody tr th:only-of-type {\n",
       "        vertical-align: middle;\n",
       "    }\n",
       "\n",
       "    .dataframe tbody tr th {\n",
       "        vertical-align: top;\n",
       "    }\n",
       "\n",
       "    .dataframe thead th {\n",
       "        text-align: right;\n",
       "    }\n",
       "</style>\n",
       "<table border=\"1\" class=\"dataframe\">\n",
       "  <thead>\n",
       "    <tr style=\"text-align: right;\">\n",
       "      <th></th>\n",
       "      <th>Class</th>\n",
       "    </tr>\n",
       "  </thead>\n",
       "  <tbody>\n",
       "    <tr>\n",
       "      <th>0</th>\n",
       "      <td>0</td>\n",
       "    </tr>\n",
       "    <tr>\n",
       "      <th>1</th>\n",
       "      <td>0</td>\n",
       "    </tr>\n",
       "    <tr>\n",
       "      <th>2</th>\n",
       "      <td>0</td>\n",
       "    </tr>\n",
       "    <tr>\n",
       "      <th>3</th>\n",
       "      <td>0</td>\n",
       "    </tr>\n",
       "    <tr>\n",
       "      <th>4</th>\n",
       "      <td>0</td>\n",
       "    </tr>\n",
       "    <tr>\n",
       "      <th>...</th>\n",
       "      <td>...</td>\n",
       "    </tr>\n",
       "    <tr>\n",
       "      <th>284802</th>\n",
       "      <td>0</td>\n",
       "    </tr>\n",
       "    <tr>\n",
       "      <th>284803</th>\n",
       "      <td>0</td>\n",
       "    </tr>\n",
       "    <tr>\n",
       "      <th>284804</th>\n",
       "      <td>0</td>\n",
       "    </tr>\n",
       "    <tr>\n",
       "      <th>284805</th>\n",
       "      <td>0</td>\n",
       "    </tr>\n",
       "    <tr>\n",
       "      <th>284806</th>\n",
       "      <td>0</td>\n",
       "    </tr>\n",
       "  </tbody>\n",
       "</table>\n",
       "<p>284807 rows × 1 columns</p>\n",
       "</div>"
      ],
      "text/plain": [
       "        Class\n",
       "0           0\n",
       "1           0\n",
       "2           0\n",
       "3           0\n",
       "4           0\n",
       "...       ...\n",
       "284802      0\n",
       "284803      0\n",
       "284804      0\n",
       "284805      0\n",
       "284806      0\n",
       "\n",
       "[284807 rows x 1 columns]"
      ]
     },
     "execution_count": 8,
     "metadata": {},
     "output_type": "execute_result"
    }
   ],
   "source": [
    "y"
   ]
  },
  {
   "cell_type": "code",
   "execution_count": 9,
   "id": "laughing-maria",
   "metadata": {},
   "outputs": [],
   "source": [
    "x_train , x_test , y_train , y_test = train_test_split(x, y, train_size = 0.7, test_size = 0.3, random_state = 42)"
   ]
  },
  {
   "cell_type": "code",
   "execution_count": 10,
   "id": "molecular-facial",
   "metadata": {},
   "outputs": [],
   "source": [
    "sc = StandardScaler()\n",
    "x_train = sc.fit_transform(x_train)         #Standarized the input data\n",
    "x_test = sc.transform(x_test)"
   ]
  },
  {
   "cell_type": "code",
   "execution_count": 11,
   "id": "sitting-prophet",
   "metadata": {},
   "outputs": [],
   "source": [
    "par_x_train , x_val , par_y_train , y_val = train_test_split(x_train, y_train, test_size = 0.2, random_state = 42)"
   ]
  },
  {
   "cell_type": "code",
   "execution_count": 12,
   "id": "leading-pocket",
   "metadata": {},
   "outputs": [
    {
     "name": "stdout",
     "output_type": "stream",
     "text": [
      "(159491, 30)\n",
      "(85443, 30)\n",
      "(39873, 30)\n"
     ]
    }
   ],
   "source": [
    "print(par_x_train.shape)    # 50% Training Data\n",
    "print(x_test.shape)         # 30% Test Data\n",
    "print(x_val.shape)          # 20% Validation Data"
   ]
  },
  {
   "cell_type": "code",
   "execution_count": 13,
   "id": "recovered-obligation",
   "metadata": {},
   "outputs": [],
   "source": [
    "model = models.Sequential()\n",
    "model.add(layers.Dense(10, activation = 'relu', input_shape = (par_x_train.shape[1],)))    \n",
    "model.add(layers.Dense(8, activation = 'relu'))\n",
    "model.add(layers.Dense(6, activation = 'relu'))\n",
    "model.add(layers.Dense(1, activation = 'sigmoid'))    #Used sigmoid because it is mostly used for binary classification"
   ]
  },
  {
   "cell_type": "code",
   "execution_count": 14,
   "id": "other-butterfly",
   "metadata": {},
   "outputs": [],
   "source": [
    "model.compile(optimizer = 'rmsprop',\n",
    "              loss = 'binary_crossentropy',\n",
    "              metrics = ['accuracy'])                 #Used binary_crossentropy since it is a binary classification problem"
   ]
  },
  {
   "cell_type": "code",
   "execution_count": 15,
   "id": "drawn-selection",
   "metadata": {},
   "outputs": [
    {
     "name": "stdout",
     "output_type": "stream",
     "text": [
      "Epoch 1/100\n",
      "312/312 [==============================] - 1s 2ms/step - loss: 0.1159 - accuracy: 0.9669 - val_loss: 0.0054 - val_accuracy: 0.9991\n",
      "Epoch 2/100\n",
      "312/312 [==============================] - 0s 2ms/step - loss: 0.0046 - accuracy: 0.9993 - val_loss: 0.0047 - val_accuracy: 0.9993\n",
      "Epoch 3/100\n",
      "312/312 [==============================] - 0s 2ms/step - loss: 0.0040 - accuracy: 0.9994 - val_loss: 0.0048 - val_accuracy: 0.9993\n",
      "Epoch 4/100\n",
      "312/312 [==============================] - 0s 2ms/step - loss: 0.0037 - accuracy: 0.9994 - val_loss: 0.0046 - val_accuracy: 0.9993\n",
      "Epoch 5/100\n",
      "312/312 [==============================] - 0s 2ms/step - loss: 0.0035 - accuracy: 0.9994 - val_loss: 0.0046 - val_accuracy: 0.9993\n",
      "Epoch 6/100\n",
      "312/312 [==============================] - 1s 2ms/step - loss: 0.0034 - accuracy: 0.9994 - val_loss: 0.0044 - val_accuracy: 0.9994\n",
      "Epoch 7/100\n",
      "312/312 [==============================] - 1s 2ms/step - loss: 0.0033 - accuracy: 0.9994 - val_loss: 0.0043 - val_accuracy: 0.9993\n",
      "Epoch 8/100\n",
      "312/312 [==============================] - 0s 2ms/step - loss: 0.0032 - accuracy: 0.9994 - val_loss: 0.0045 - val_accuracy: 0.9993\n",
      "Epoch 9/100\n",
      "312/312 [==============================] - 1s 2ms/step - loss: 0.0031 - accuracy: 0.9994 - val_loss: 0.0045 - val_accuracy: 0.9993\n",
      "Epoch 10/100\n",
      "312/312 [==============================] - 0s 2ms/step - loss: 0.0031 - accuracy: 0.9994 - val_loss: 0.0046 - val_accuracy: 0.9992\n",
      "Epoch 11/100\n",
      "312/312 [==============================] - 1s 2ms/step - loss: 0.0030 - accuracy: 0.9994 - val_loss: 0.0045 - val_accuracy: 0.9993\n",
      "Epoch 12/100\n",
      "312/312 [==============================] - 1s 2ms/step - loss: 0.0030 - accuracy: 0.9994 - val_loss: 0.0044 - val_accuracy: 0.9993\n",
      "Epoch 13/100\n",
      "312/312 [==============================] - 1s 2ms/step - loss: 0.0029 - accuracy: 0.9994 - val_loss: 0.0043 - val_accuracy: 0.9993\n",
      "Epoch 14/100\n",
      "312/312 [==============================] - 0s 2ms/step - loss: 0.0029 - accuracy: 0.9994 - val_loss: 0.0044 - val_accuracy: 0.9993\n",
      "Epoch 15/100\n",
      "312/312 [==============================] - 0s 2ms/step - loss: 0.0028 - accuracy: 0.9995 - val_loss: 0.0046 - val_accuracy: 0.9994\n",
      "Epoch 16/100\n",
      "312/312 [==============================] - 1s 2ms/step - loss: 0.0029 - accuracy: 0.9994 - val_loss: 0.0044 - val_accuracy: 0.9992\n",
      "Epoch 17/100\n",
      "312/312 [==============================] - 1s 2ms/step - loss: 0.0028 - accuracy: 0.9994 - val_loss: 0.0044 - val_accuracy: 0.9993\n",
      "Epoch 18/100\n",
      "312/312 [==============================] - 0s 2ms/step - loss: 0.0027 - accuracy: 0.9994 - val_loss: 0.0044 - val_accuracy: 0.9994\n",
      "Epoch 19/100\n",
      "312/312 [==============================] - 1s 2ms/step - loss: 0.0027 - accuracy: 0.9994 - val_loss: 0.0044 - val_accuracy: 0.9994\n",
      "Epoch 20/100\n",
      "312/312 [==============================] - 1s 3ms/step - loss: 0.0027 - accuracy: 0.9994 - val_loss: 0.0044 - val_accuracy: 0.9994\n",
      "Epoch 21/100\n",
      "312/312 [==============================] - 1s 3ms/step - loss: 0.0027 - accuracy: 0.9994 - val_loss: 0.0042 - val_accuracy: 0.9994\n",
      "Epoch 22/100\n",
      "312/312 [==============================] - 1s 3ms/step - loss: 0.0026 - accuracy: 0.9994 - val_loss: 0.0044 - val_accuracy: 0.9994\n",
      "Epoch 23/100\n",
      "312/312 [==============================] - 1s 2ms/step - loss: 0.0026 - accuracy: 0.9994 - val_loss: 0.0044 - val_accuracy: 0.9994\n",
      "Epoch 24/100\n",
      "312/312 [==============================] - 1s 2ms/step - loss: 0.0026 - accuracy: 0.9994 - val_loss: 0.0045 - val_accuracy: 0.9993\n",
      "Epoch 25/100\n",
      "312/312 [==============================] - 1s 2ms/step - loss: 0.0026 - accuracy: 0.9994 - val_loss: 0.0046 - val_accuracy: 0.9993\n",
      "Epoch 26/100\n",
      "312/312 [==============================] - 1s 2ms/step - loss: 0.0026 - accuracy: 0.9994 - val_loss: 0.0047 - val_accuracy: 0.9993\n",
      "Epoch 27/100\n",
      "312/312 [==============================] - 1s 2ms/step - loss: 0.0026 - accuracy: 0.9994 - val_loss: 0.0047 - val_accuracy: 0.9993\n",
      "Epoch 28/100\n",
      "312/312 [==============================] - 1s 2ms/step - loss: 0.0025 - accuracy: 0.9994 - val_loss: 0.0046 - val_accuracy: 0.9993\n",
      "Epoch 29/100\n",
      "312/312 [==============================] - 0s 2ms/step - loss: 0.0025 - accuracy: 0.9995 - val_loss: 0.0046 - val_accuracy: 0.9993\n",
      "Epoch 30/100\n",
      "312/312 [==============================] - 1s 2ms/step - loss: 0.0025 - accuracy: 0.9995 - val_loss: 0.0046 - val_accuracy: 0.9994\n",
      "Epoch 31/100\n",
      "312/312 [==============================] - 1s 2ms/step - loss: 0.0025 - accuracy: 0.9995 - val_loss: 0.0046 - val_accuracy: 0.9993\n",
      "Epoch 32/100\n",
      "312/312 [==============================] - 1s 2ms/step - loss: 0.0024 - accuracy: 0.9994 - val_loss: 0.0048 - val_accuracy: 0.9993\n",
      "Epoch 33/100\n",
      "312/312 [==============================] - 0s 2ms/step - loss: 0.0025 - accuracy: 0.9995 - val_loss: 0.0046 - val_accuracy: 0.9993\n",
      "Epoch 34/100\n",
      "312/312 [==============================] - 1s 2ms/step - loss: 0.0024 - accuracy: 0.9995 - val_loss: 0.0049 - val_accuracy: 0.9992\n",
      "Epoch 35/100\n",
      "312/312 [==============================] - 1s 2ms/step - loss: 0.0024 - accuracy: 0.9995 - val_loss: 0.0045 - val_accuracy: 0.9993\n",
      "Epoch 36/100\n",
      "312/312 [==============================] - 1s 2ms/step - loss: 0.0023 - accuracy: 0.9995 - val_loss: 0.0048 - val_accuracy: 0.9993\n",
      "Epoch 37/100\n",
      "312/312 [==============================] - 0s 1ms/step - loss: 0.0023 - accuracy: 0.9995 - val_loss: 0.0048 - val_accuracy: 0.9993\n",
      "Epoch 38/100\n",
      "312/312 [==============================] - 1s 2ms/step - loss: 0.0023 - accuracy: 0.9995 - val_loss: 0.0047 - val_accuracy: 0.9994\n",
      "Epoch 39/100\n",
      "312/312 [==============================] - 0s 1ms/step - loss: 0.0023 - accuracy: 0.9995 - val_loss: 0.0048 - val_accuracy: 0.9993\n",
      "Epoch 40/100\n",
      "312/312 [==============================] - 0s 2ms/step - loss: 0.0023 - accuracy: 0.9995 - val_loss: 0.0050 - val_accuracy: 0.9994\n",
      "Epoch 41/100\n",
      "312/312 [==============================] - 1s 2ms/step - loss: 0.0023 - accuracy: 0.9995 - val_loss: 0.0048 - val_accuracy: 0.9993\n",
      "Epoch 42/100\n",
      "312/312 [==============================] - 0s 2ms/step - loss: 0.0022 - accuracy: 0.9995 - val_loss: 0.0049 - val_accuracy: 0.9993\n",
      "Epoch 43/100\n",
      "312/312 [==============================] - 0s 2ms/step - loss: 0.0022 - accuracy: 0.9995 - val_loss: 0.0047 - val_accuracy: 0.9994\n",
      "Epoch 44/100\n",
      "312/312 [==============================] - 0s 1ms/step - loss: 0.0022 - accuracy: 0.9995 - val_loss: 0.0048 - val_accuracy: 0.9994\n",
      "Epoch 45/100\n",
      "312/312 [==============================] - 0s 2ms/step - loss: 0.0023 - accuracy: 0.9995 - val_loss: 0.0047 - val_accuracy: 0.9993\n",
      "Epoch 46/100\n",
      "312/312 [==============================] - 0s 1ms/step - loss: 0.0022 - accuracy: 0.9995 - val_loss: 0.0052 - val_accuracy: 0.9993\n",
      "Epoch 47/100\n",
      "312/312 [==============================] - 1s 2ms/step - loss: 0.0022 - accuracy: 0.9995 - val_loss: 0.0047 - val_accuracy: 0.9994\n",
      "Epoch 48/100\n",
      "312/312 [==============================] - 1s 2ms/step - loss: 0.0022 - accuracy: 0.9995 - val_loss: 0.0049 - val_accuracy: 0.9994\n",
      "Epoch 49/100\n",
      "312/312 [==============================] - 1s 2ms/step - loss: 0.0022 - accuracy: 0.9995 - val_loss: 0.0050 - val_accuracy: 0.9994\n",
      "Epoch 50/100\n",
      "312/312 [==============================] - 1s 3ms/step - loss: 0.0021 - accuracy: 0.9995 - val_loss: 0.0052 - val_accuracy: 0.9994\n",
      "Epoch 51/100\n",
      "312/312 [==============================] - 1s 2ms/step - loss: 0.0022 - accuracy: 0.9995 - val_loss: 0.0054 - val_accuracy: 0.9993\n",
      "Epoch 52/100\n",
      "312/312 [==============================] - 1s 2ms/step - loss: 0.0022 - accuracy: 0.9995 - val_loss: 0.0050 - val_accuracy: 0.9993\n",
      "Epoch 53/100\n",
      "312/312 [==============================] - 1s 2ms/step - loss: 0.0022 - accuracy: 0.9995 - val_loss: 0.0049 - val_accuracy: 0.9993\n",
      "Epoch 54/100\n",
      "312/312 [==============================] - 1s 2ms/step - loss: 0.0021 - accuracy: 0.9995 - val_loss: 0.0052 - val_accuracy: 0.9993\n",
      "Epoch 55/100\n",
      "312/312 [==============================] - 1s 2ms/step - loss: 0.0022 - accuracy: 0.9995 - val_loss: 0.0053 - val_accuracy: 0.9993\n",
      "Epoch 56/100\n",
      "312/312 [==============================] - 1s 2ms/step - loss: 0.0021 - accuracy: 0.9996 - val_loss: 0.0053 - val_accuracy: 0.9993\n",
      "Epoch 57/100\n",
      "312/312 [==============================] - 1s 2ms/step - loss: 0.0021 - accuracy: 0.9995 - val_loss: 0.0053 - val_accuracy: 0.9994\n"
     ]
    },
    {
     "name": "stdout",
     "output_type": "stream",
     "text": [
      "Epoch 58/100\n",
      "312/312 [==============================] - 0s 2ms/step - loss: 0.0021 - accuracy: 0.9995 - val_loss: 0.0052 - val_accuracy: 0.9993\n",
      "Epoch 59/100\n",
      "312/312 [==============================] - 1s 2ms/step - loss: 0.0021 - accuracy: 0.9995 - val_loss: 0.0053 - val_accuracy: 0.9994\n",
      "Epoch 60/100\n",
      "312/312 [==============================] - 0s 2ms/step - loss: 0.0021 - accuracy: 0.9995 - val_loss: 0.0053 - val_accuracy: 0.9993\n",
      "Epoch 61/100\n",
      "312/312 [==============================] - 0s 2ms/step - loss: 0.0020 - accuracy: 0.9996 - val_loss: 0.0052 - val_accuracy: 0.9994\n",
      "Epoch 62/100\n",
      "312/312 [==============================] - 1s 2ms/step - loss: 0.0020 - accuracy: 0.9995 - val_loss: 0.0055 - val_accuracy: 0.9993\n",
      "Epoch 63/100\n",
      "312/312 [==============================] - 1s 2ms/step - loss: 0.0020 - accuracy: 0.9995 - val_loss: 0.0054 - val_accuracy: 0.9994\n",
      "Epoch 64/100\n",
      "312/312 [==============================] - 1s 2ms/step - loss: 0.0021 - accuracy: 0.9995 - val_loss: 0.0055 - val_accuracy: 0.9993\n",
      "Epoch 65/100\n",
      "312/312 [==============================] - 1s 2ms/step - loss: 0.0020 - accuracy: 0.9996 - val_loss: 0.0062 - val_accuracy: 0.9993\n",
      "Epoch 66/100\n",
      "312/312 [==============================] - 1s 3ms/step - loss: 0.0021 - accuracy: 0.9995 - val_loss: 0.0053 - val_accuracy: 0.9993\n",
      "Epoch 67/100\n",
      "312/312 [==============================] - 1s 2ms/step - loss: 0.0020 - accuracy: 0.9995 - val_loss: 0.0056 - val_accuracy: 0.9993\n",
      "Epoch 68/100\n",
      "312/312 [==============================] - 1s 2ms/step - loss: 0.0020 - accuracy: 0.9995 - val_loss: 0.0055 - val_accuracy: 0.9993\n",
      "Epoch 69/100\n",
      "312/312 [==============================] - 1s 2ms/step - loss: 0.0020 - accuracy: 0.9995 - val_loss: 0.0057 - val_accuracy: 0.9993\n",
      "Epoch 70/100\n",
      "312/312 [==============================] - 1s 2ms/step - loss: 0.0020 - accuracy: 0.9995 - val_loss: 0.0058 - val_accuracy: 0.9994\n",
      "Epoch 71/100\n",
      "312/312 [==============================] - 1s 2ms/step - loss: 0.0020 - accuracy: 0.9996 - val_loss: 0.0059 - val_accuracy: 0.9992\n",
      "Epoch 72/100\n",
      "312/312 [==============================] - 1s 2ms/step - loss: 0.0020 - accuracy: 0.9995 - val_loss: 0.0060 - val_accuracy: 0.9993\n",
      "Epoch 73/100\n",
      "312/312 [==============================] - 1s 2ms/step - loss: 0.0020 - accuracy: 0.9996 - val_loss: 0.0063 - val_accuracy: 0.9994\n",
      "Epoch 74/100\n",
      "312/312 [==============================] - 1s 2ms/step - loss: 0.0020 - accuracy: 0.9995 - val_loss: 0.0061 - val_accuracy: 0.9994\n",
      "Epoch 75/100\n",
      "312/312 [==============================] - 1s 2ms/step - loss: 0.0020 - accuracy: 0.9996 - val_loss: 0.0062 - val_accuracy: 0.9993\n",
      "Epoch 76/100\n",
      "312/312 [==============================] - 1s 2ms/step - loss: 0.0020 - accuracy: 0.9996 - val_loss: 0.0064 - val_accuracy: 0.9994\n",
      "Epoch 77/100\n",
      "312/312 [==============================] - 1s 2ms/step - loss: 0.0020 - accuracy: 0.9996 - val_loss: 0.0061 - val_accuracy: 0.9994\n",
      "Epoch 78/100\n",
      "312/312 [==============================] - 1s 2ms/step - loss: 0.0020 - accuracy: 0.9996 - val_loss: 0.0064 - val_accuracy: 0.9994\n",
      "Epoch 79/100\n",
      "312/312 [==============================] - 1s 2ms/step - loss: 0.0020 - accuracy: 0.9996 - val_loss: 0.0068 - val_accuracy: 0.9991\n",
      "Epoch 80/100\n",
      "312/312 [==============================] - 1s 2ms/step - loss: 0.0019 - accuracy: 0.9996 - val_loss: 0.0061 - val_accuracy: 0.9994\n",
      "Epoch 81/100\n",
      "312/312 [==============================] - 1s 2ms/step - loss: 0.0019 - accuracy: 0.9995 - val_loss: 0.0063 - val_accuracy: 0.9992\n",
      "Epoch 82/100\n",
      "312/312 [==============================] - 1s 2ms/step - loss: 0.0019 - accuracy: 0.9995 - val_loss: 0.0065 - val_accuracy: 0.9993\n",
      "Epoch 83/100\n",
      "312/312 [==============================] - 0s 2ms/step - loss: 0.0019 - accuracy: 0.9995 - val_loss: 0.0067 - val_accuracy: 0.9994\n",
      "Epoch 84/100\n",
      "312/312 [==============================] - 1s 2ms/step - loss: 0.0020 - accuracy: 0.9996 - val_loss: 0.0063 - val_accuracy: 0.9993\n",
      "Epoch 85/100\n",
      "312/312 [==============================] - 1s 2ms/step - loss: 0.0019 - accuracy: 0.9995 - val_loss: 0.0066 - val_accuracy: 0.9993\n",
      "Epoch 86/100\n",
      "312/312 [==============================] - 1s 2ms/step - loss: 0.0020 - accuracy: 0.9996 - val_loss: 0.0067 - val_accuracy: 0.9994\n",
      "Epoch 87/100\n",
      "312/312 [==============================] - 1s 2ms/step - loss: 0.0020 - accuracy: 0.9995 - val_loss: 0.0062 - val_accuracy: 0.9993\n",
      "Epoch 88/100\n",
      "312/312 [==============================] - 1s 2ms/step - loss: 0.0020 - accuracy: 0.9995 - val_loss: 0.0066 - val_accuracy: 0.9993\n",
      "Epoch 89/100\n",
      "312/312 [==============================] - 0s 2ms/step - loss: 0.0020 - accuracy: 0.9995 - val_loss: 0.0065 - val_accuracy: 0.9993\n",
      "Epoch 90/100\n",
      "312/312 [==============================] - 1s 2ms/step - loss: 0.0019 - accuracy: 0.9996 - val_loss: 0.0072 - val_accuracy: 0.9994\n",
      "Epoch 91/100\n",
      "312/312 [==============================] - 1s 2ms/step - loss: 0.0020 - accuracy: 0.9996 - val_loss: 0.0066 - val_accuracy: 0.9993\n",
      "Epoch 92/100\n",
      "312/312 [==============================] - 1s 2ms/step - loss: 0.0019 - accuracy: 0.9995 - val_loss: 0.0069 - val_accuracy: 0.9993\n",
      "Epoch 93/100\n",
      "312/312 [==============================] - 1s 2ms/step - loss: 0.0020 - accuracy: 0.9995 - val_loss: 0.0069 - val_accuracy: 0.9992\n",
      "Epoch 94/100\n",
      "312/312 [==============================] - 1s 2ms/step - loss: 0.0019 - accuracy: 0.9995 - val_loss: 0.0069 - val_accuracy: 0.9993\n",
      "Epoch 95/100\n",
      "312/312 [==============================] - 1s 2ms/step - loss: 0.0019 - accuracy: 0.9995 - val_loss: 0.0073 - val_accuracy: 0.9993\n",
      "Epoch 96/100\n",
      "312/312 [==============================] - 1s 2ms/step - loss: 0.0020 - accuracy: 0.9996 - val_loss: 0.0069 - val_accuracy: 0.9992\n",
      "Epoch 97/100\n",
      "312/312 [==============================] - 1s 2ms/step - loss: 0.0019 - accuracy: 0.9996 - val_loss: 0.0070 - val_accuracy: 0.9992\n",
      "Epoch 98/100\n",
      "312/312 [==============================] - 1s 2ms/step - loss: 0.0019 - accuracy: 0.9995 - val_loss: 0.0071 - val_accuracy: 0.9992\n",
      "Epoch 99/100\n",
      "312/312 [==============================] - 1s 2ms/step - loss: 0.0019 - accuracy: 0.9995 - val_loss: 0.0075 - val_accuracy: 0.9994\n",
      "Epoch 100/100\n",
      "312/312 [==============================] - 1s 2ms/step - loss: 0.0019 - accuracy: 0.9995 - val_loss: 0.0074 - val_accuracy: 0.9993\n"
     ]
    }
   ],
   "source": [
    "Result = model.fit(par_x_train, par_y_train, epochs = 100, batch_size = 512, validation_data = (x_val , y_val))"
   ]
  },
  {
   "cell_type": "code",
   "execution_count": 16,
   "id": "suspected-garage",
   "metadata": {},
   "outputs": [
    {
     "name": "stdout",
     "output_type": "stream",
     "text": [
      "dict_keys(['loss', 'accuracy', 'val_loss', 'val_accuracy'])\n"
     ]
    }
   ],
   "source": [
    "history_dict = Result.history\n",
    "print(history_dict.keys())"
   ]
  },
  {
   "cell_type": "code",
   "execution_count": 17,
   "id": "right-blues",
   "metadata": {},
   "outputs": [
    {
     "data": {
      "image/png": "[encoded data removed]",
      "text/plain": [
       "<Figure size 432x288 with 1 Axes>"
      ]
     },
     "metadata": {
      "needs_background": "light"
     },
     "output_type": "display_data"
    }
   ],
   "source": [
    "import matplotlib.pyplot as plt\n",
    "loss_values = history_dict['loss']\n",
    "val_loss_values = history_dict['val_loss']\n",
    "epochs = range(1, len(history_dict['accuracy']) + 1)\n",
    "plt.plot(epochs, loss_values, 'bo', label='Training loss')\n",
    "plt.plot(epochs, val_loss_values, 'b', label='Validation loss')\n",
    "plt.title('Training and validation loss')\n",
    "plt.xlabel('Epochs')\n",
    "plt.ylabel('Loss')\n",
    "plt.legend()\n",
    "plt.show()"
   ]
  },
  {
   "cell_type": "code",
   "execution_count": 18,
   "id": "unknown-salem",
   "metadata": {},
   "outputs": [
    {
     "name": "stdout",
     "output_type": "stream",
     "text": [
      "2671/2671 [==============================] - 2s 740us/step - loss: 0.0048 - accuracy: 0.9993\n",
      "[0.004784668795764446, 0.9992626905441284]\n"
     ]
    }
   ],
   "source": [
    "Evaluation = model.evaluate(x_test, y_test)\n",
    "print(Evaluation)                                   #Evaluation"
   ]
  },
  {
   "cell_type": "code",
   "execution_count": 19,
   "id": "portable-combine",
   "metadata": {},
   "outputs": [],
   "source": [
    "Prediction = model.predict(x_test)                               #Prediction"
   ]
  },
  {
   "cell_type": "code",
   "execution_count": 29,
   "id": "amended-lobby",
   "metadata": {},
   "outputs": [
    {
     "name": "stdout",
     "output_type": "stream",
     "text": [
      "[[9.9938560e-01]\n",
      " [2.5850184e-06]\n",
      " [4.1597596e-05]\n",
      " ...\n",
      " [6.2660377e-11]\n",
      " [6.7661818e-09]\n",
      " [9.8478594e-08]]\n",
      "(85443, 1)\n"
     ]
    }
   ],
   "source": [
    "print(Prediction)\n",
    "print(Prediction.shape)"
   ]
  },
  {
   "cell_type": "code",
   "execution_count": 22,
   "id": "indoor-conversation",
   "metadata": {},
   "outputs": [
    {
     "name": "stdout",
     "output_type": "stream",
     "text": [
      "28\n",
      "137.7911\n"
     ]
    }
   ],
   "source": [
    "print((Prediction == 1).sum())\n",
    "\n",
    "print(Prediction.sum())"
   ]
  },
  {
   "cell_type": "code",
   "execution_count": 48,
   "id": "copyrighted-personality",
   "metadata": {},
   "outputs": [
    {
     "name": "stdout",
     "output_type": "stream",
     "text": [
      "Predicted Shape :  (85443, 1)  Original Shape :  (85443, 1)\n",
      "----------------------------------------------------------------\n",
      "Predicted Labels\n",
      " [[1]\n",
      " [0]\n",
      " [0]\n",
      " ...\n",
      " [0]\n",
      " [0]\n",
      " [0]]\n",
      "----------------------------------------------------------------\n",
      "Original Labels\n",
      "         Class\n",
      "43428       1\n",
      "49906       0\n",
      "29474       0\n",
      "276481      0\n",
      "278846      0\n",
      "...       ...\n",
      "180795      0\n",
      "259979      0\n",
      "21885       0\n",
      "217812      0\n",
      "86348       0\n",
      "\n",
      "[85443 rows x 1 columns]\n"
     ]
    }
   ],
   "source": [
    "a = np.where(Prediction < 0.5 , 0 , 1)\n",
    "print(\"Predicted Shape : \",a.shape, \" Original Shape : \", y_test.shape)\n",
    "print(\"----------------------------------------------------------------\")\n",
    "print(\"Predicted Labels\\n\", a)\n",
    "print(\"----------------------------------------------------------------\")\n",
    "print(\"Original Labels\\n\", y_test)"
   ]
  },
  {
   "cell_type": "code",
   "execution_count": 73,
   "id": "prerequisite-ladder",
   "metadata": {},
   "outputs": [
    {
     "name": "stdout",
     "output_type": "stream",
     "text": [
      "[['Fraud']\n",
      " ['Not Fraud']\n",
      " ['Not Fraud']\n",
      " ...\n",
      " ['Not Fraud']\n",
      " ['Not Fraud']\n",
      " ['Not Fraud']]\n",
      "-------------------------------------\n",
      "[['Match']\n",
      " ['Match']\n",
      " ['Match']\n",
      " ...\n",
      " ['Match']\n",
      " ['Match']\n",
      " ['Match']]\n",
      "Prediction match with original labels for :                    85380\n",
      "Prediction does not match with original labels for :           63\n"
     ]
    }
   ],
   "source": [
    "b = np.where(a == 1, 'Fraud', 'Not Fraud')\n",
    "print(b)\n",
    "c = np.where (a == y_test , 'Match' , 'Not Match')\n",
    "print(\"-------------------------------------\")\n",
    "print(c)\n",
    "print(\"Prediction match with original labels for :                   \",  len(c[c == 'Match']))\n",
    "print(\"Prediction does not match with original labels for :          \", len(c[c == 'Not Match']))"
   ]
  },
  {
   "cell_type": "code",
   "execution_count": 74,
   "id": "opposed-member",
   "metadata": {},
   "outputs": [
    {
     "name": "stdout",
     "output_type": "stream",
     "text": [
      "Prediction Percentage :  99.92626663389628\n"
     ]
    }
   ],
   "source": [
    "Prediction_Percentage = (len(c[c == 'Match'])/y_test.shape[0])*100\n",
    "print(\"Prediction Percentage : \", Prediction_Percentage)"
   ]
  }
 ],
 "metadata": {
  "kernelspec": {
   "display_name": "Python 3",
   "language": "python",
   "name": "python3"
  },
  "language_info": {
   "codemirror_mode": {
    "name": "ipython",
    "version": 3
   },
   "file_extension": ".py",
   "mimetype": "text/x-python",
   "name": "python",
   "nbconvert_exporter": "python",
   "pygments_lexer": "ipython3",
   "version": "3.8.8"
  }
 },
 "nbformat": 4,
 "nbformat_minor": 5
}
